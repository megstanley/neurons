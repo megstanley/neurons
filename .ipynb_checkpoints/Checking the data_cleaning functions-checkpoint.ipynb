{
 "cells": [
  {
   "cell_type": "markdown",
   "metadata": {},
   "source": [
    "# Testing the data cleaning functions"
   ]
  },
  {
   "cell_type": "markdown",
   "metadata": {},
   "source": [
    "Edge removal and low baseline data removal with data_cleaning.py -- comparing cleaning and raw data. "
   ]
  },
  {
   "cell_type": "code",
   "execution_count": 55,
   "metadata": {
    "collapsed": true
   },
   "outputs": [],
   "source": [
    "Cdata_path = '/Users/Megan/data_analysis/Aug02_2018_B3/B3_TS/Cleaned/rg_B3_TS_ZP_16.npz'"
   ]
  },
  {
   "cell_type": "code",
   "execution_count": 128,
   "metadata": {},
   "outputs": [],
   "source": [
    "import numpy as np\n",
    "import matplotlib.pyplot as plt\n",
    "%matplotlib notebook\n",
    "import glob\n",
    "import preprocess.join_z_stacks as pp"
   ]
  },
  {
   "cell_type": "code",
   "execution_count": 57,
   "metadata": {},
   "outputs": [],
   "source": [
    "Cdata = np.load(Cdata_path)"
   ]
  },
  {
   "cell_type": "code",
   "execution_count": 58,
   "metadata": {},
   "outputs": [],
   "source": [
    "cdata = Cdata.f.arr_0"
   ]
  },
  {
   "cell_type": "code",
   "execution_count": 59,
   "metadata": {},
   "outputs": [
    {
     "data": {
      "text/plain": [
       "array([149., 464.,   8.])"
      ]
     },
     "execution_count": 59,
     "metadata": {},
     "output_type": "execute_result"
    }
   ],
   "source": [
    "cdata.item()['xy'][0]"
   ]
  },
  {
   "cell_type": "code",
   "execution_count": 60,
   "metadata": {
    "collapsed": true
   },
   "outputs": [],
   "source": [
    "cdata = {key:cdata.item()[key] for key in cdata.item()}"
   ]
  },
  {
   "cell_type": "code",
   "execution_count": 61,
   "metadata": {},
   "outputs": [
    {
     "data": {
      "text/plain": [
       "array([149., 464.,   8.])"
      ]
     },
     "execution_count": 61,
     "metadata": {},
     "output_type": "execute_result"
    }
   ],
   "source": [
    "cdata['xy'][0]"
   ]
  },
  {
   "cell_type": "markdown",
   "metadata": {},
   "source": [
    "Let's look at the position data for this test file. "
   ]
  },
  {
   "cell_type": "code",
   "execution_count": 33,
   "metadata": {},
   "outputs": [
    {
     "data": {
      "text/plain": [
       "Text(0,0.5,'y pixel')"
      ]
     },
     "execution_count": 33,
     "metadata": {},
     "output_type": "execute_result"
    },
    {
     "data": {
      "image/png": "[encoded data removed]",
      "text/plain": [
       "<matplotlib.figure.Figure at 0x111be4160>"
      ]
     },
     "metadata": {},
     "output_type": "display_data"
    }
   ],
   "source": [
    "plt.scatter(cdata['xy'][:,0], cdata['xy'][:,1])\n",
    "plt.xlabel('x pixel')\n",
    "plt.ylabel('y pixel')"
   ]
  },
  {
   "cell_type": "code",
   "execution_count": 34,
   "metadata": {
    "collapsed": true
   },
   "outputs": [],
   "source": [
    "Rdata_path = '/Users/Megan/data_analysis/Aug02_2018_B3/B3_TS/Extracted/rg_B3_TS_ZP_16.npz'"
   ]
  },
  {
   "cell_type": "code",
   "execution_count": 35,
   "metadata": {
    "collapsed": true
   },
   "outputs": [],
   "source": [
    "Rdata = np.load(Rdata_path)"
   ]
  },
  {
   "cell_type": "code",
   "execution_count": 50,
   "metadata": {},
   "outputs": [],
   "source": [
    "rdata = Rdata['xy']"
   ]
  },
  {
   "cell_type": "markdown",
   "metadata": {},
   "source": [
    "Let's compare before and after"
   ]
  },
  {
   "cell_type": "code",
   "execution_count": 54,
   "metadata": {},
   "outputs": [
    {
     "data": {
      "text/plain": [
       "Text(0,0.5,'y pixel')"
      ]
     },
     "execution_count": 54,
     "metadata": {},
     "output_type": "execute_result"
    },
    {
     "data": {
      "image/png": "[encoded data removed]",
      "text/plain": [
       "<matplotlib.figure.Figure at 0x111be41d0>"
      ]
     },
     "metadata": {},
     "output_type": "display_data"
    }
   ],
   "source": [
    "plt.scatter(rdata[:,0], rdata[:,1], c = 'r')\n",
    "plt.scatter(cdata['xy'][:,0], cdata['xy'][:,1], c = 'b')\n",
    "plt.xlabel('x pixel')\n",
    "plt.ylabel('y pixel')"
   ]
  },
  {
   "cell_type": "markdown",
   "metadata": {},
   "source": [
    "Hmm. Cleaning has certainly removed the edges (with a margin of 10) but the baseline of 200 may have removed too many of other time-series. However, these are likely to be represented in other slices (this is something that needs further investigation)."
   ]
  },
  {
   "cell_type": "markdown",
   "metadata": {},
   "source": [
    "OK, let's look at a selection of cleaned slices."
   ]
  },
  {
   "cell_type": "code",
   "execution_count": 88,
   "metadata": {},
   "outputs": [],
   "source": [
    "path = '/Users/Megan/data_analysis/Aug02_2018_B3/B3_TS/'\n",
    "flag = 'ZP_'\n",
    "rfilelist = glob.glob(path+ 'Extracted/*' + flag + '*.npz')\n",
    "cfilelist = glob.glob(path+ 'Cleaned/*' + flag + '*.npz')"
   ]
  },
  {
   "cell_type": "code",
   "execution_count": 89,
   "metadata": {
    "collapsed": true
   },
   "outputs": [],
   "source": [
    "rdatalist = sorted(rfilelist, key = pp.z_coordinate)\n",
    "cdatalist = sorted(cfilelist, key = pp.z_coordinate)"
   ]
  },
  {
   "cell_type": "code",
   "execution_count": 100,
   "metadata": {},
   "outputs": [],
   "source": [
    "# Cdata = np.load(cdatalist[0])\n",
    "# cdata = Cdata.f.arr_0\n",
    "# cdata = {key:cdata.item()[key] for key in cdata.item()}\n",
    "# xc = cdata['xy'][:,0]\n",
    "# yc = cdata['xy'][:,1]"
   ]
  },
  {
   "cell_type": "code",
   "execution_count": 131,
   "metadata": {},
   "outputs": [],
   "source": [
    "#fig, axs = plt.subplots(26,1, figsize = (6,25))"
   ]
  },
  {
   "cell_type": "code",
   "execution_count": 130,
   "metadata": {},
   "outputs": [],
   "source": [
    "for i in range(len(cdatalist)):\n",
    "    rdata = np.load(rdatalist[i])\n",
    "    rdata = rdata['xy']\n",
    "    Cdata = np.load(cdatalist[i])\n",
    "    cdata = Cdata.f.arr_0\n",
    "    cdata = {key:cdata.item()[key] for key in cdata.item()}\n",
    "    cdata = cdata['xy']\n",
    "    axs[i].scatter(rdata[:,0], rdata[:,1], c='r')\n",
    "    axs[i].scatter(cdata[:,0], cdata[:,1], c ='b')\n",
    "    fig.show()"
   ]
  },
  {
   "cell_type": "code",
   "execution_count": 126,
   "metadata": {},
   "outputs": [],
   "source": [
    "plt.show()"
   ]
  },
  {
   "cell_type": "code",
   "execution_count": null,
   "metadata": {
    "collapsed": true
   },
   "outputs": [],
   "source": []
  }
 ],
 "metadata": {
  "kernelspec": {
   "display_name": "Python 3",
   "language": "python",
   "name": "python3"
  },
  "language_info": {
   "codemirror_mode": {
    "name": "ipython",
    "version": 3
   },
   "file_extension": ".py",
   "mimetype": "text/x-python",
   "name": "python",
   "nbconvert_exporter": "python",
   "pygments_lexer": "ipython3",
   "version": "3.6.3"
  }
 },
 "nbformat": 4,
 "nbformat_minor": 2
}
